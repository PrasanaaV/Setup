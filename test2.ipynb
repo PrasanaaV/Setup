{
 "cells": [
  {
   "cell_type": "code",
   "execution_count": 4,
   "metadata": {},
   "outputs": [],
   "source": [
    "import json\n",
    "def fetch_data_from_json_perim():\n",
    "    print('Hello from fetch data DAG')\n",
    "    with open('dags/files/perimetre-des-donnees-tr-disponibles-plateforme-idfm.json', 'r') as file:\n",
    "        content = json.load(file)\n",
    "\n",
    "    simplified_records = []\n",
    "    for record in content:\n",
    "        fields = record.get('fields')\n",
    "        if fields:\n",
    "            simplified_record = {\n",
    "                'line': fields.get('line'),\n",
    "                'ns3_stoppointref': fields.get('ns3_stoppointref'),\n",
    "                'name_line': fields.get('name_line'),\n",
    "                'ns3_stopname': fields.get('ns3_stopname')\n",
    "            }\n",
    "            simplified_records.append(simplified_record)\n",
    "\n",
    "    return simplified_records"
   ]
  },
  {
   "cell_type": "code",
   "execution_count": 18,
   "metadata": {},
   "outputs": [],
   "source": [
    "from elasticsearch import Elasticsearch\n",
    "\n",
    "def insert_into_elasticsearch_perim(content):\n",
    "    \n",
    "    client = Elasticsearch(\n",
    "        \"https://7f0ef8badf50482b9b0d93ef141e14ec.us-central1.gcp.cloud.es.io:443\",\n",
    "        api_key=\"QzFsdkc1QUItODFDdXJHT1FuR2g6ZDNxbWdHVXVSQmFzZlZyYW5qSEw4UQ==\",\n",
    "        timeout=30,           # Connection timeout\n",
    "        max_retries=3,        # Maximum number of retries on connection failure\n",
    "        retry_on_timeout=True  # Retry on connection timeout\n",
    "    )\n",
    "\n",
    "    with open(\"jobs/mapping.json\") as f:\n",
    "        res = json.load(f)\n",
    "        for item in content:\n",
    "            if item['line'] in res.values():\n",
    "                unique_id = f\"{item['line']}_{item['ns3_stoppointref']}\"\n",
    "                \n",
    "                # Insert the document using the unique identifier\n",
    "                # client.index(index=\"perimeter\", id=unique_id, body=item)\n",
    "        print(\"New data inserted successfully.\")\n",
    "        return"
   ]
  },
  {
   "cell_type": "code",
   "execution_count": 19,
   "metadata": {},
   "outputs": [],
   "source": [
    "def fetch_and_insert_into_elasticsearch_perim():\n",
    "    content = fetch_data_from_json_perim()\n",
    "    insert_into_elasticsearch_perim(content)"
   ]
  },
  {
   "cell_type": "code",
   "execution_count": 20,
   "metadata": {},
   "outputs": [
    {
     "name": "stdout",
     "output_type": "stream",
     "text": [
      "Hello from fetch data DAG\n",
      "New data inserted successfully.\n",
      "954\n"
     ]
    },
    {
     "name": "stderr",
     "output_type": "stream",
     "text": [
      "/var/folders/4s/zcblzs195vj8krc9vtkymk6w0000gn/T/ipykernel_69615/3060204280.py:5: DeprecationWarning: The 'timeout' parameter is deprecated in favor of 'request_timeout'\n",
      "  client = Elasticsearch(\n"
     ]
    }
   ],
   "source": [
    "fetch_and_insert_into_elasticsearch_perim()"
   ]
  },
  {
   "cell_type": "code",
   "execution_count": 21,
   "metadata": {},
   "outputs": [
    {
     "name": "stderr",
     "output_type": "stream",
     "text": [
      "/var/folders/4s/zcblzs195vj8krc9vtkymk6w0000gn/T/ipykernel_69615/1111143365.py:1: DeprecationWarning: The 'timeout' parameter is deprecated in favor of 'request_timeout'\n",
      "  client = Elasticsearch(\n"
     ]
    },
    {
     "data": {
      "text/plain": [
       "ObjectApiResponse({'took': 435, 'timed_out': False, 'total': 6331, 'deleted': 6331, 'batches': 7, 'version_conflicts': 0, 'noops': 0, 'retries': {'bulk': 0, 'search': 0}, 'throttled_millis': 0, 'requests_per_second': -1.0, 'throttled_until_millis': 0, 'failures': []})"
      ]
     },
     "execution_count": 21,
     "metadata": {},
     "output_type": "execute_result"
    }
   ],
   "source": [
    "client = Elasticsearch(\n",
    "        \"https://7f0ef8badf50482b9b0d93ef141e14ec.us-central1.gcp.cloud.es.io:443\",\n",
    "        api_key=\"QzFsdkc1QUItODFDdXJHT1FuR2g6ZDNxbWdHVXVSQmFzZlZyYW5qSEw4UQ==\",\n",
    "        timeout=30,           # Connection timeout\n",
    "        max_retries=3,        # Maximum number of retries on connection failure\n",
    "        retry_on_timeout=True  # Retry on connection timeout\n",
    "    )\n",
    "\n",
    "query = {\n",
    "        \"query\": {\n",
    "            \"match_all\": {}\n",
    "        }\n",
    "    }\n",
    "\n",
    "client.delete_by_query(index=\"perimeter\", body=query)"
   ]
  }
 ],
 "metadata": {
  "kernelspec": {
   "display_name": "Python 3",
   "language": "python",
   "name": "python3"
  },
  "language_info": {
   "codemirror_mode": {
    "name": "ipython",
    "version": 3
   },
   "file_extension": ".py",
   "mimetype": "text/x-python",
   "name": "python",
   "nbconvert_exporter": "python",
   "pygments_lexer": "ipython3",
   "version": "3.11.8"
  }
 },
 "nbformat": 4,
 "nbformat_minor": 2
}
