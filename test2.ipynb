{
 "cells": [
  {
   "cell_type": "code",
   "execution_count": 24,
   "metadata": {},
   "outputs": [],
   "source": [
    "import json\n",
    "def fetch_data_from_json_perim():\n",
    "    print('Hello from fetch data DAG')\n",
    "    with open('dags/files/perimetre-des-donnees-tr-disponibles-plateforme-idfm.json', 'r') as file:\n",
    "        content = json.load(file)\n",
    "\n",
    "    simplified_records = []\n",
    "    for record in content:\n",
    "        fields = record.get('fields')\n",
    "        if fields:\n",
    "            simplified_record = {\n",
    "                'line': fields.get('line'),\n",
    "                'ns3_stoppointref': fields.get('ns3_stoppointref'),\n",
    "                'name_line': fields.get('name_line'),\n",
    "                'ns3_stopname': fields.get('ns3_stopname')\n",
    "            }\n",
    "            simplified_records.append(simplified_record)\n",
    "\n",
    "    return simplified_records"
   ]
  },
  {
   "cell_type": "code",
   "execution_count": 46,
   "metadata": {},
   "outputs": [],
   "source": [
    "from elasticsearch import Elasticsearch\n",
    "\n",
    "def insert_into_elasticsearch_perim(content):\n",
    "    \n",
    "    client = Elasticsearch(\n",
    "        \"https://7f0ef8badf50482b9b0d93ef141e14ec.us-central1.gcp.cloud.es.io:443\",\n",
    "        api_key=\"QzFsdkc1QUItODFDdXJHT1FuR2g6ZDNxbWdHVXVSQmFzZlZyYW5qSEw4UQ==\",\n",
    "        timeout=30,           # Connection timeout\n",
    "        max_retries=3,        # Maximum number of retries on connection failure\n",
    "        retry_on_timeout=True  # Retry on connection timeout\n",
    "    )\n",
    "\n",
    "    lst = [\"1\", \"2\", \"3\", \"4\", \"5\", \"6\", \"7\", \"8\", \"9\", \"10\", \"11\", \"12\", \"A\", \"B\"]\n",
    "   \n",
    "    for item in content:\n",
    "        if item['name_line'] in lst:\n",
    "            unique_id = f\"{item['line']}_{item['ns3_stoppointref']}\"\n",
    "    \n",
    "            client.index(index=\"perimeter\", id=unique_id, body=item)\n",
    "    print(\"New data inserted successfully.\")\n",
    "    return"
   ]
  },
  {
   "cell_type": "code",
   "execution_count": 32,
   "metadata": {},
   "outputs": [],
   "source": [
    "def fetch_and_insert_into_elasticsearch_perim():\n",
    "    content = fetch_data_from_json_perim()\n",
    "    insert_into_elasticsearch_perim(content)"
   ]
  },
  {
   "cell_type": "code",
   "execution_count": null,
   "metadata": {},
   "outputs": [],
   "source": [
    "fetch_and_insert_into_elasticsearch_perim()"
   ]
  }
 ],
 "metadata": {
  "kernelspec": {
   "display_name": "Python 3",
   "language": "python",
   "name": "python3"
  },
  "language_info": {
   "codemirror_mode": {
    "name": "ipython",
    "version": 3
   },
   "file_extension": ".py",
   "mimetype": "text/x-python",
   "name": "python",
   "nbconvert_exporter": "python",
   "pygments_lexer": "ipython3",
   "version": "3.11.8"
  }
 },
 "nbformat": 4,
 "nbformat_minor": 2
}
