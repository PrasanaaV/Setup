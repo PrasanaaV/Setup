{
 "cells": [
  {
   "cell_type": "code",
   "execution_count": 1,
   "metadata": {},
   "outputs": [],
   "source": [
    "import requests\n",
    "\n",
    "def get_estimated_timetable(stop_point_ref):\n",
    "    url = \"https://prim.iledefrance-mobilites.fr/marketplace/stop-monitoring\"\n",
    "\n",
    "    params = {\n",
    "        \"MonitoringRef\": stop_point_ref\n",
    "    }\n",
    "\n",
    "    headers = {\n",
    "        \"apikey\": \"VKl2FLcQCLZXZxJfP65faKkRRxSHWdHX\"\n",
    "    }\n",
    "\n",
    "    # Effectuer la requête GET\n",
    "    response = requests.get(url, params=params, headers=headers)\n",
    "\n",
    "    # Vérifier si la requête a réussi\n",
    "    if response.status_code == 200:\n",
    "        data = response.json()  \n",
    "        return data\n",
    "    else:\n",
    "        print(\"Failed to fetch data: Status code\", response.status_code)\n",
    "        return None"
   ]
  },
  {
   "cell_type": "code",
   "execution_count": 40,
   "metadata": {},
   "outputs": [],
   "source": [
    "stopRef = \"STIF:StopPoint:Q:22061:\"\n",
    "data = get_estimated_timetable(stopRef)\n",
    "destination_display = data['Siri']['ServiceDelivery']['StopMonitoringDelivery'][0]['MonitoredStopVisit'][0]['MonitoredVehicleJourney']['MonitoredCall']['DestinationDisplay'][0]['value']\n",
    "expected_arrival_time = data['Siri']['ServiceDelivery']['StopMonitoringDelivery'][0]['MonitoredStopVisit'][0]['MonitoredVehicleJourney']['MonitoredCall']['ExpectedArrivalTime']\n",
    "\n",
    "res = dict({stopRef: {\"destination\": destination_display,\"expected_arrival_time\":expected_arrival_time }})"
   ]
  },
  {
   "cell_type": "code",
   "execution_count": 54,
   "metadata": {},
   "outputs": [
    {
     "name": "stdout",
     "output_type": "stream",
     "text": [
      "{'STIF:StopPoint:Q:22061:': {'destination': \"Mairie d'Aubervilliers\", 'expected_arrival_time': '2024-06-15T09:05:05.028Z'}}\n"
     ]
    }
   ],
   "source": [
    "print(res)"
   ]
  },
  {
   "cell_type": "code",
   "execution_count": 56,
   "metadata": {},
   "outputs": [],
   "source": [
    "from kafka import KafkaProducer\n",
    "import json\n",
    "\n",
    "#localhost:9092\n",
    "#kafka1:19092\n",
    "\n",
    "def send(res):\n",
    "    try:\n",
    "        producer = KafkaProducer(\n",
    "            bootstrap_servers=['localhost:9092'],\n",
    "            value_serializer=lambda v: json.dumps(v).encode('utf-8'),\n",
    "            key_serializer=lambda v: v.encode('utf-8')\n",
    "        )\n",
    "\n",
    "        # Loop through the res dictionary and send each key-value pair\n",
    "        for key, value in res.items():\n",
    "            producer.send('infosRealTime', key=key, value=value)\n",
    "\n",
    "        producer.flush()  # Ensure all messages are sent before closing\n",
    "        producer.close()\n",
    "        print(\"Message sent successfully.\")\n",
    "    except Exception as e:\n",
    "        print(f\"Error sending message: {e}\")\n"
   ]
  },
  {
   "cell_type": "code",
   "execution_count": 57,
   "metadata": {},
   "outputs": [
    {
     "name": "stdout",
     "output_type": "stream",
     "text": [
      "Message sent successfully.\n"
     ]
    }
   ],
   "source": [
    "send(res)"
   ]
  },
  {
   "cell_type": "code",
   "execution_count": null,
   "metadata": {},
   "outputs": [],
   "source": [
    "try:\n",
    "        producer = KafkaProducer(\n",
    "            bootstrap_servers=['localhost:9092'],\n",
    "            value_serializer=lambda v: json.dumps(v).encode('utf-8'),\n",
    "            key_serializer=lambda v: v.encode('utf-8')\n",
    "        )\n",
    "\n",
    "        # Loop through the res dictionary and send each key-value pair\n",
    "        for key, value in res.items():\n",
    "            producer.send('infosRealTime', key=key, value=value)\n",
    "\n",
    "        producer.flush()  # Ensure all messages are sent before closing\n",
    "        producer.close()\n",
    "        print(\"Message sent successfully.\")\n",
    "    except Exception as e:\n",
    "        print(f\"Error sending message: {e}\")"
   ]
  }
 ],
 "metadata": {
  "kernelspec": {
   "display_name": "Python 3",
   "language": "python",
   "name": "python3"
  },
  "language_info": {
   "codemirror_mode": {
    "name": "ipython",
    "version": 3
   },
   "file_extension": ".py",
   "mimetype": "text/x-python",
   "name": "python",
   "nbconvert_exporter": "python",
   "pygments_lexer": "ipython3",
   "version": "3.11.8"
  }
 },
 "nbformat": 4,
 "nbformat_minor": 2
}
